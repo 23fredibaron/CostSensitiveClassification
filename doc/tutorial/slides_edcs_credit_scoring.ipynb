{
 "cells": [
  {
   "cell_type": "markdown",
   "metadata": {
    "slideshow": {
     "slide_type": "slide"
    }
   },
   "source": [
    "<h1 class=\"title\">Example-Dependent Cost-Sensitive Credit Scoring using CostCla</h1>"
   ]
  },
  {
   "cell_type": "markdown",
   "metadata": {
    "slideshow": {
     "slide_type": "-"
    }
   },
   "source": [
    "<center>\n",
    "\n",
    "<h2>Alejandro Correa Bahnsen</h2>\n",
    "\n",
    "<p>\n",
    "\n",
    "<div>\n",
    "<img img class=\"logo\" src=\"https://raw.githubusercontent.com/albahnsen/CostSensitiveClassification/master/doc/tutorial/files/logo_unilu_snt.jpg\" style=\"width: 200px;\">\n",
    "</div>\n",
    "\n",
    "<div>\n",
    "<img img class=\"logo\" src=\"https://raw.githubusercontent.com/albahnsen/CostSensitiveClassification/master/logo.png\" style=\"width: 300px;\">\n",
    "</div>\n",
    "\n",
    "<h3>PyData Berlin, May 2015</h3>\n",
    "</center>"
   ]
  },
  {
   "cell_type": "markdown",
   "metadata": {
    "slideshow": {
     "slide_type": "slide"
    }
   },
   "source": [
    "You find the presentation and the IPython Notebook here:\n",
    "    \n",
    "* <a href=\"\" target=\"_blank\">hg</a>\n",
    "* <a href=\"http://nbviewer.ipython.org/github/albahnsen/CostSensitiveClassification/blob/master/doc/tutorial/slides_edcs_credit_scoring.ipynb\" target=\"_blank\">http://nbviewer.ipython.org/github/albahnsen/CostSensitiveClassification/blob/master/doc/tutorial/slides_edcs_credit_scoring.ipynb</a>\n",
    "\n",
    "This slides are a short version of this tutorial:\n",
    "\n",
    "* <a href=\"http://nbviewer.ipython.org/github/albahnsen/CostSensitiveClassification/blob/master/doc/tutorial/tutorial_edcs_credit_scoring.ipynb\" target=\"_blank\">http://nbviewer.ipython.org/github/albahnsen/CostSensitiveClassification/blob/master/doc/tutorial/tutorial_edcs_credit_scoring.ipynb</a>"
   ]
  },
  {
   "cell_type": "markdown",
   "metadata": {
    "slideshow": {
     "slide_type": "slide"
    }
   },
   "source": [
    "<h1 class=\"bigtitle\">About Me</h1>"
   ]
  },
  {
   "cell_type": "markdown",
   "metadata": {
    "slideshow": {
     "slide_type": "skip"
    }
   },
   "source": [
    "%%html\n",
    "<style>\n",
    "table,td,tr,th {border:none!important}\n",
    "</style>"
   ]
  },
  {
   "cell_type": "markdown",
   "metadata": {
    "slideshow": {
     "slide_type": "subslide"
    }
   },
   "source": [
    "###A brief bio:\n",
    "\n",
    "* Last year (month) PhD Student at Luxembourg University\n",
    "* My research is focus on Cost-Sensitive Classification\n",
    "* Work part time a fraud data scientist at CETREL a SIX Company\n",
    "* Worked for +5 years as a data scientist at GE Money and Scotiabank\n",
    "* Bachelor in Industrial Engineering and Master in Financial Engineering\n",
    "* Organizer of Data Science Luxembourg and recently of Big Data Science Bog \n",
    "* Sport addict, love to swim, play tennis, squash, and volleyball, among others.\n",
    "\n",
    "<p>\n",
    "\n",
    "<table style=\"border-collapse: collapse; border-top-color: rgb(255, 255, 255); border-right-color: rgb(255, 255, 255); border-bottom-color: rgb(255, 255, 255); border-left-color: rgb(255, 255, 255); border-top-width: 1px; border-right-width: 1px; border-bottom-width: 1px; border-left-width: 1px; \" border=\"0\" bordercolor=\"#888\" cellspacing=\"0\" align=\"left\">\n",
    "  <tr>\n",
    "    <td>\n",
    "<a href=\"mailto: al.bahnsen@gmail.com\"><svg width=\"40px\" height=\"40px\" viewBox=\"0 0 60 60\" version=\"1.1\" xmlns=\"http://www.w3.org/2000/svg\" xmlns:xlink=\"http://www.w3.org/1999/xlink\" xmlns:sketch=\"http://www.bohemiancoding.com/sketch/ns\">\n",
    "    <path d=\"M0.224580688,30 C0.224580688,13.4314567 13.454941,0 29.7754193,0 C46.0958976,0 59.3262579,13.4314567 59.3262579,30 C59.3262579,46.5685433 46.0958976,60 29.7754193,60 C13.454941,60 0.224580688,46.5685433 0.224580688,30 Z M0.224580688,30\" fill=\"#FFFFFF\" sketch:type=\"MSShapeGroup\"></path>\n",
    "    <path d=\"M35.0384324,31.6384006 L47.2131148,40.5764264 L47.2131148,20 L35.0384324,31.6384006 Z M13.7704918,20 L13.7704918,40.5764264 L25.9449129,31.6371491 L13.7704918,20 Z M30.4918033,35.9844891 L27.5851037,33.2065217 L13.7704918,42 L47.2131148,42 L33.3981762,33.2065217 L30.4918033,35.9844891 Z M46.2098361,20 L14.7737705,20 L30.4918033,32.4549304 L46.2098361,20 Z M46.2098361,20\" id=\"Shape\" fill=\"#333333\" sketch:type=\"MSShapeGroup\"></path>\n",
    "    <path d=\"M59.3262579,30 C59.3262579,46.5685433 46.0958976,60 29.7754193,60 C23.7225405,60 18.0947051,58.1525134 13.4093244,54.9827754 L47.2695458,5.81941103 C54.5814438,11.2806503 59.3262579,20.0777973 59.3262579,30 Z M59.3262579,30\" id=\"reflec\" fill-opacity=\"0.08\" fill=\"#000000\" sketch:type=\"MSShapeGroup\"></path>\n",
    "</svg></a> \n",
    "</td> \n",
    "<td>\n",
    "<a href=\"mailto: al.bahnsen@gmail.com\" target=\"_blank\">al.bahnsen@gmail.com</a>  \n",
    "</td> </tr><tr> <td>\n",
    "                 \n",
    "<a href=\"http://github.com/albahnsen\"><svg width=\"40px\" height=\"40px\" viewBox=\"0 0 60 60\" version=\"1.1\" xmlns=\"http://www.w3.org/2000/svg\" xmlns:xlink=\"http://www.w3.org/1999/xlink\" xmlns:sketch=\"http://www.bohemiancoding.com/sketch/ns\">\n",
    "    <path d=\"M0.336871032,30 C0.336871032,13.4314567 13.5672313,0 29.8877097,0 C46.208188,0 59.4385483,13.4314567 59.4385483,30 C59.4385483,46.5685433 46.208188,60 29.8877097,60 C13.5672313,60 0.336871032,46.5685433 0.336871032,30 Z M0.336871032,30\" id=\"Github\" fill=\"#333333\" sketch:type=\"MSShapeGroup\"></path>\n",
    "    <path d=\"M18.2184245,31.9355566 C19.6068506,34.4507902 22.2845295,36.0156764 26.8007287,36.4485173 C26.1561023,36.9365335 25.3817877,37.8630984 25.2749857,38.9342607 C24.4644348,39.4574749 22.8347506,39.62966 21.5674303,39.2310659 C19.7918469,38.6717023 19.1119377,35.1642642 16.4533306,35.6636959 C15.8773626,35.772144 15.9917933,36.1507609 16.489567,36.4722998 C17.3001179,36.9955141 18.0629894,37.6500075 18.6513541,39.04366 C19.1033554,40.113871 20.0531304,42.0259813 23.0569369,42.0259813 C24.2489236,42.0259813 25.0842679,41.8832865 25.0842679,41.8832865 C25.0842679,41.8832865 25.107154,44.6144649 25.107154,45.6761142 C25.107154,46.9004355 23.4507693,47.2457569 23.4507693,47.8346108 C23.4507693,48.067679 23.9990832,48.0895588 24.4396415,48.0895588 C25.3102685,48.0895588 27.1220883,47.3646693 27.1220883,46.0918317 C27.1220883,45.0806012 27.1382993,41.6806599 27.1382993,41.0860982 C27.1382993,39.785673 27.8372803,39.3737607 27.8372803,39.3737607 C27.8372803,39.3737607 27.924057,46.3153869 27.6704022,47.2457569 C27.3728823,48.3397504 26.8360115,48.1846887 26.8360115,48.6727049 C26.8360115,49.3985458 29.0168704,48.8505978 29.7396911,47.2571725 C30.2984945,46.0166791 30.0543756,39.2072834 30.0543756,39.2072834 L30.650369,39.1949165 C30.650369,39.1949165 30.6837446,42.3123222 30.6637192,43.7373675 C30.6427402,45.2128317 30.5426134,47.0792797 31.4208692,47.9592309 C31.9977907,48.5376205 33.868733,49.5526562 33.868733,48.62514 C33.868733,48.0857536 32.8436245,47.6424485 32.8436245,46.1831564 L32.8436245,39.4688905 C33.6618042,39.4688905 33.5387911,41.6768547 33.5387911,41.6768547 L33.5988673,45.7788544 C33.5988673,45.7788544 33.4186389,47.2733446 35.2190156,47.8992991 C35.8541061,48.1209517 37.2139245,48.1808835 37.277815,47.8089257 C37.3417055,47.4360167 35.6405021,46.8814096 35.6252446,45.7236791 C35.6157088,45.0178155 35.6567131,44.6059032 35.6567131,41.5379651 C35.6567131,38.470027 35.2438089,37.336079 33.8048426,36.4323453 C38.2457082,35.9766732 40.9939527,34.880682 42.3337458,31.9450695 C42.4383619,31.9484966 42.8791491,30.5737742 42.8219835,30.5742482 C43.1223642,29.4659853 43.2844744,28.1550957 43.3168964,26.6025764 C43.3092677,22.3930799 41.2895654,20.9042975 40.9014546,20.205093 C41.4736082,17.0182425 40.8060956,15.5675121 40.4961791,15.0699829 C39.3518719,14.6637784 36.5149435,16.1145088 34.9653608,17.1371548 C32.438349,16.3998984 27.0982486,16.4712458 25.0957109,17.3274146 C21.4005522,14.6875608 19.445694,15.0918628 19.445694,15.0918628 C19.445694,15.0918628 18.1821881,17.351197 19.1119377,20.6569598 C17.8961113,22.2028201 16.9902014,23.2968136 16.9902014,26.1963718 C16.9902014,27.8297516 17.1828264,29.2918976 17.6176632,30.5685404 C17.5643577,30.5684093 18.2008493,31.9359777 18.2184245,31.9355566 Z M18.2184245,31.9355566\" id=\"Path\" fill=\"#FFFFFF\" sketch:type=\"MSShapeGroup\"></path>\n",
    "    <path d=\"M59.4385483,30 C59.4385483,46.5685433 46.208188,60 29.8877097,60 C23.8348308,60 18.2069954,58.1525134 13.5216148,54.9827754 L47.3818361,5.81941103 C54.6937341,11.2806503 59.4385483,20.0777973 59.4385483,30 Z M59.4385483,30\" id=\"reflec\" fill-opacity=\"0.08\" fill=\"#000000\" sketch:type=\"MSShapeGroup\"></path>\n",
    "</svg></a>\n",
    "\n",
    "</td><td>\n",
    "<a href=\"http://github.com/albahnsen\" target=\"_blank\">http://github.com/albahnsen</a>  \n",
    "\n",
    "</td> </tr><tr> <td>\n",
    "\n",
    "<a href=\"http://linkedin.com/in/albahnsen\"><svg width=\"40px\" height=\"40px\" viewBox=\"0 0 60 60\" version=\"1.1\" xmlns=\"http://www.w3.org/2000/svg\" xmlns:xlink=\"http://www.w3.org/1999/xlink\" xmlns:sketch=\"http://www.bohemiancoding.com/sketch/ns\">\n",
    "    <path d=\"M0.449161376,30 C0.449161376,13.4314567 13.6795217,0 30,0 C46.3204783,0 59.5508386,13.4314567 59.5508386,30 C59.5508386,46.5685433 46.3204783,60 30,60 C13.6795217,60 0.449161376,46.5685433 0.449161376,30 Z M0.449161376,30\" fill=\"#007BB6\" sketch:type=\"MSShapeGroup\"></path>\n",
    "    <path d=\"M22.4680392,23.7098144 L15.7808366,23.7098144 L15.7808366,44.1369537 L22.4680392,44.1369537 L22.4680392,23.7098144 Z M22.4680392,23.7098144\" id=\"Path\" fill=\"#FFFFFF\" sketch:type=\"MSShapeGroup\"></path>\n",
    "    <path d=\"M22.9084753,17.3908761 C22.8650727,15.3880081 21.4562917,13.862504 19.1686418,13.862504 C16.8809918,13.862504 15.3854057,15.3880081 15.3854057,17.3908761 C15.3854057,19.3522579 16.836788,20.9216886 19.0818366,20.9216886 L19.1245714,20.9216886 C21.4562917,20.9216886 22.9084753,19.3522579 22.9084753,17.3908761 Z M22.9084753,17.3908761\" id=\"Path\" fill=\"#FFFFFF\" sketch:type=\"MSShapeGroup\"></path>\n",
    "    <path d=\"M46.5846502,32.4246563 C46.5846502,26.1503226 43.2856534,23.2301456 38.8851658,23.2301456 C35.3347011,23.2301456 33.7450983,25.2128128 32.8575489,26.6036896 L32.8575489,23.7103567 L26.1695449,23.7103567 C26.2576856,25.6271338 26.1695449,44.137496 26.1695449,44.137496 L32.8575489,44.137496 L32.8575489,32.7292961 C32.8575489,32.1187963 32.9009514,31.5097877 33.0777669,31.0726898 C33.5610713,29.8530458 34.6614937,28.5902885 36.5089747,28.5902885 C38.9297703,28.5902885 39.8974476,30.4634101 39.8974476,33.2084226 L39.8974476,44.1369537 L46.5843832,44.1369537 L46.5846502,32.4246563 Z M46.5846502,32.4246563\" id=\"Path\" fill=\"#FFFFFF\" sketch:type=\"MSShapeGroup\"></path>\n",
    "    <path d=\"M59.5508386,30 C59.5508386,46.5685433 46.3204783,60 30,60 C23.9471212,60 18.3192858,58.1525134 13.6339051,54.9827754 L47.4941264,5.81941103 C54.8060245,11.2806503 59.5508386,20.0777973 59.5508386,30 Z M59.5508386,30\" id=\"reflec\" fill-opacity=\"0.08\" fill=\"#000000\" sketch:type=\"MSShapeGroup\"></path>\n",
    "</svg></a> \n",
    "</td> <td>\n",
    "<a href=\"http://linkedin.com/in/albahnsen\" target=\"_blank\">http://linkedin.com/in/albahnsen</a>  \n",
    "\n",
    "</td> </tr><tr> <td>\n",
    "\n",
    "<a href=\"http://twitter.com/albahnsen\"><svg width=\"40px\" height=\"40px\" viewBox=\"0 0 60 60\" version=\"1.1\" xmlns=\"http://www.w3.org/2000/svg\" xmlns:xlink=\"http://www.w3.org/1999/xlink\" xmlns:sketch=\"http://www.bohemiancoding.com/sketch/ns\">\n",
    "    <path d=\"M0,30 C0,13.4314567 13.4508663,0 30.0433526,0 C46.6358389,0 60.0867052,13.4314567 60.0867052,30 C60.0867052,46.5685433 46.6358389,60 30.0433526,60 C13.4508663,60 0,46.5685433 0,30 Z M0,30\" fill=\"#4099FF\" sketch:type=\"MSShapeGroup\"></path>\n",
    "    <path d=\"M29.2997675,23.8879776 L29.3627206,24.9260453 L28.3135016,24.798935 C24.4943445,24.3116787 21.1578281,22.6592444 18.3249368,19.8840023 L16.9399677,18.5069737 L16.5832333,19.5238563 C15.8277956,21.7906572 16.3104363,24.1845684 17.8842648,25.7946325 C18.72364,26.6844048 18.5347806,26.8115152 17.0868584,26.2818888 C16.5832333,26.1124083 16.1425613,25.985298 16.1005925,26.0488532 C15.9537019,26.1971486 16.457327,28.1249885 16.8560302,28.8876505 C17.4016241,29.9469033 18.5137962,30.9849709 19.7308902,31.5993375 L20.7591248,32.0865938 L19.5420308,32.1077788 C18.3669055,32.1077788 18.3249368,32.1289639 18.4508431,32.57385 C18.8705307,33.9508786 20.5282967,35.4126474 22.3749221,36.048199 L23.6759536,36.4930852 L22.5427971,37.1710069 C20.8640467,38.1455194 18.891515,38.6963309 16.9189833,38.738701 C15.9746862,38.759886 15.1982642,38.8446262 15.1982642,38.9081814 C15.1982642,39.1200319 17.7583585,40.306395 19.2482495,40.7724662 C23.7179224,42.1494948 29.0269705,41.5563132 33.0140027,39.2047722 C35.846894,37.5311528 38.6797853,34.2050993 40.0018012,30.9849709 C40.7152701,29.2689815 41.428739,26.1335934 41.428739,24.6294545 C41.428739,23.654942 41.4916922,23.5278317 42.6668174,22.3626537 C43.359302,21.6847319 44.0098178,20.943255 44.135724,20.7314044 C44.3455678,20.3288884 44.3245835,20.3288884 43.2543801,20.6890343 C41.4707078,21.324586 41.2188952,21.2398458 42.1002392,20.2865183 C42.750755,19.6085965 43.527177,18.3798634 43.527177,18.0197174 C43.527177,17.9561623 43.2124113,18.0620876 42.8556769,18.252753 C42.477958,18.4646036 41.6385828,18.7823794 41.0090514,18.9730449 L39.8758949,19.3331908 L38.8476603,18.634084 C38.281082,18.252753 37.4836756,17.829052 37.063988,17.7019416 C35.9937846,17.4053509 34.357003,17.447721 33.3917215,17.7866818 C30.768674,18.7400093 29.110908,21.1974757 29.2997675,23.8879776 Z M29.2997675,23.8879776\" id=\"Path\" fill=\"#FFFFFF\" sketch:type=\"MSShapeGroup\"></path>\n",
    "    <path d=\"M60.0867052,30 C60.0867052,46.5685433 46.6358389,60 30.0433526,60 C23.8895925,60 18.1679598,58.1525134 13.4044895,54.9827754 L47.8290478,5.81941103 C55.2628108,11.2806503 60.0867052,20.0777973 60.0867052,30 Z M60.0867052,30\" id=\"reflec\" fill-opacity=\"0.08\" fill=\"#000000\" sketch:type=\"MSShapeGroup\"></path>\n",
    "</svg></a>\n",
    "</td> <td>\n",
    "<a href=\"http://twitter.com/albahnsen\" target=\"_blank\">@albahnsen</a>  \n",
    "\n",
    "</td> </tr>\n",
    "</table>"
   ]
  },
  {
   "cell_type": "markdown",
   "metadata": {
    "slideshow": {
     "slide_type": "slide"
    }
   },
   "source": [
    "# Agenda\n",
    "\n",
    "* Quick Intro to Credit Scoring\n",
    "* Example of Credit Scoring\n",
    "* Financial Evaluation of a Credit Scorecard\n",
    "* Example-Dependent Classification\n",
    "* CostCla Library\n",
    "* Conclusion and Future Work"
   ]
  },
  {
   "cell_type": "markdown",
   "metadata": {
    "slideshow": {
     "slide_type": "slide"
    }
   },
   "source": [
    "<h1 class=\"bigtitle\">Credit Scoring</h1>"
   ]
  },
  {
   "cell_type": "markdown",
   "metadata": {
    "slideshow": {
     "slide_type": "subslide"
    }
   },
   "source": [
    "#To whom would you grant a loan?\n",
    "\n",
    "| <img src=\"https://raw.githubusercontent.com/albahnsen/CostSensitiveClassification/master/doc/tutorial/files/s_scoring_Picture1.png\" style=\"width: 300px;\"> | <img src=\"https://raw.githubusercontent.com/albahnsen/CostSensitiveClassification/master/doc/tutorial/files/s_scoring_Picture2.png\" style=\"width: 300px;\">  |\n",
    "|:-:|:-:|\n",
    "| Just fund a bank  | Just quit college  |\n",
    "\n"
   ]
  },
  {
   "cell_type": "markdown",
   "metadata": {
    "slideshow": {
     "slide_type": "subslide"
    }
   },
   "source": [
    "# Nice guess!\n",
    "\n",
    "| <img src=\"https://raw.githubusercontent.com/albahnsen/CostSensitiveClassification/master/doc/tutorial/files/s_scoring_Picture3.png\" style=\"width: 300px;\"> | <img src=\"https://raw.githubusercontent.com/albahnsen/CostSensitiveClassification/master/doc/tutorial/files/s_scoring_Picture4.png\" style=\"width: 300px;\">  |\n",
    "|:-:|:-:|\n",
    "| Biggest Ponzi scheme  | Now a Billionaire  |\n",
    "\n"
   ]
  },
  {
   "cell_type": "markdown",
   "metadata": {
    "slideshow": {
     "slide_type": "subslide"
    }
   },
   "source": [
    "# Credit Scoring"
   ]
  },
  {
   "cell_type": "markdown",
   "metadata": {
    "slideshow": {
     "slide_type": "fragment"
    }
   },
   "source": [
    "- Mitigate the impact of **credit risk** and make more objective\n",
    "and accurate decisions"
   ]
  },
  {
   "cell_type": "markdown",
   "metadata": {
    "slideshow": {
     "slide_type": "fragment"
    }
   },
   "source": [
    "- Estimate the **risk of a customer defaulting** his contracted\n",
    "financial obligation if a loan is granted, based on past\n",
    "experiences"
   ]
  },
  {
   "cell_type": "markdown",
   "metadata": {
    "slideshow": {
     "slide_type": "fragment"
    }
   },
   "source": [
    "- Different machine learning methods are used in practice, and in the\n",
    "literature: logistic regression, neural networks, discriminant\n",
    "analysis, genetic programing, decision trees, random forests among others"
   ]
  },
  {
   "cell_type": "markdown",
   "metadata": {
    "slideshow": {
     "slide_type": "subslide"
    }
   },
   "source": [
    "# Credit Scoring"
   ]
  },
  {
   "cell_type": "markdown",
   "metadata": {
    "slideshow": {
     "slide_type": "-"
    }
   },
   "source": [
    "Formally, a credit score is a statistical model that allows the estimation of the probability \n",
    "\n",
    "  $$\\hat p_i=P(y_i=1|\\mathbf{x}_i)$$ \n",
    "  \n",
    "of a customer $i$ defaulting a contracted debt ($y_i=1$). Additionally, \n",
    "since the objective of credit scoring is to estimate a classifier $c_i$ to decide whether or not to grant a loan to a customer $i$, a threshold $t$ is defined such that if $\\hat p_i < t $, then the loan is \n",
    "  granted, i.e., $c_i(t)=0$, and denied otherwise, i.e., $c_i(t)=1$."
   ]
  },
  {
   "cell_type": "markdown",
   "metadata": {
    "slideshow": {
     "slide_type": "slide"
    }
   },
   "source": [
    "<h1 class=\"bigtitle\">Example: Kaggle Credit Competition</h1>"
   ]
  },
  {
   "cell_type": "markdown",
   "metadata": {
    "slideshow": {
     "slide_type": "subslide"
    }
   },
   "source": [
    "Improve on the state of the art in credit scoring by predicting the probability that somebody will experience financial distress in the next two years.\n",
    "\n",
    "\n",
    "https://www.kaggle.com/c/GiveMeSomeCredit"
   ]
  },
  {
   "cell_type": "markdown",
   "metadata": {
    "slideshow": {
     "slide_type": "subslide"
    }
   },
   "source": [
    "# Load dataset from CostCla package"
   ]
  },
  {
   "cell_type": "code",
   "execution_count": 1,
   "metadata": {
    "collapsed": false,
    "slideshow": {
     "slide_type": "skip"
    }
   },
   "outputs": [],
   "source": [
    "import pandas as pd\n",
    "import numpy as np"
   ]
  },
  {
   "cell_type": "code",
   "execution_count": 2,
   "metadata": {
    "collapsed": false,
    "slideshow": {
     "slide_type": "fragment"
    }
   },
   "outputs": [
    {
     "name": "stdout",
     "output_type": "stream",
     "text": [
      "['target_names', 'cost_mat', 'name', 'DESCR', 'feature_names', 'data', 'target']\n"
     ]
    }
   ],
   "source": [
    "from costcla.datasets import load_creditscoring1\n",
    "data = load_creditscoring1()\n",
    "\n",
    "# Elements of the data file\n",
    "print data.keys()"
   ]
  },
  {
   "cell_type": "markdown",
   "metadata": {
    "slideshow": {
     "slide_type": "fragment"
    }
   },
   "source": [
    "### Class Label"
   ]
  },
  {
   "cell_type": "code",
   "execution_count": 3,
   "metadata": {
    "collapsed": false
   },
   "outputs": [
    {
     "data": {
      "text/plain": [
       "0    105299\n",
       "1      7616\n",
       "dtype: int64"
      ]
     },
     "execution_count": 3,
     "metadata": {},
     "output_type": "execute_result"
    }
   ],
   "source": [
    "pd.Series(data.target).value_counts()"
   ]
  },
  {
   "cell_type": "markdown",
   "metadata": {
    "slideshow": {
     "slide_type": "subslide"
    }
   },
   "source": [
    "### Features"
   ]
  },
  {
   "cell_type": "code",
   "execution_count": 4,
   "metadata": {
    "collapsed": false
   },
   "outputs": [
    {
     "data": {
      "text/html": [
       "<div style=\"max-height:1000px;max-width:1500px;overflow:auto;\">\n",
       "<table border=\"1\" class=\"dataframe\">\n",
       "  <thead>\n",
       "    <tr style=\"text-align: right;\">\n",
       "      <th></th>\n",
       "      <th>Features</th>\n",
       "    </tr>\n",
       "  </thead>\n",
       "  <tbody>\n",
       "    <tr>\n",
       "      <th>0</th>\n",
       "      <td>RevolvingUtilizationOfUnsecuredLines</td>\n",
       "    </tr>\n",
       "    <tr>\n",
       "      <th>1</th>\n",
       "      <td>age</td>\n",
       "    </tr>\n",
       "    <tr>\n",
       "      <th>2</th>\n",
       "      <td>NumberOfTime30-59DaysPastDueNotWorse</td>\n",
       "    </tr>\n",
       "    <tr>\n",
       "      <th>3</th>\n",
       "      <td>DebtRatio</td>\n",
       "    </tr>\n",
       "    <tr>\n",
       "      <th>4</th>\n",
       "      <td>MonthlyIncome</td>\n",
       "    </tr>\n",
       "    <tr>\n",
       "      <th>5</th>\n",
       "      <td>NumberOfOpenCreditLinesAndLoans</td>\n",
       "    </tr>\n",
       "    <tr>\n",
       "      <th>6</th>\n",
       "      <td>NumberOfTimes90DaysLate</td>\n",
       "    </tr>\n",
       "    <tr>\n",
       "      <th>7</th>\n",
       "      <td>NumberRealEstateLoansOrLines</td>\n",
       "    </tr>\n",
       "    <tr>\n",
       "      <th>8</th>\n",
       "      <td>NumberOfTime60-89DaysPastDueNotWorse</td>\n",
       "    </tr>\n",
       "    <tr>\n",
       "      <th>9</th>\n",
       "      <td>NumberOfDependents</td>\n",
       "    </tr>\n",
       "  </tbody>\n",
       "</table>\n",
       "</div>"
      ],
      "text/plain": [
       "                               Features\n",
       "0  RevolvingUtilizationOfUnsecuredLines\n",
       "1                                   age\n",
       "2  NumberOfTime30-59DaysPastDueNotWorse\n",
       "3                             DebtRatio\n",
       "4                         MonthlyIncome\n",
       "5       NumberOfOpenCreditLinesAndLoans\n",
       "6               NumberOfTimes90DaysLate\n",
       "7          NumberRealEstateLoansOrLines\n",
       "8  NumberOfTime60-89DaysPastDueNotWorse\n",
       "9                    NumberOfDependents"
      ]
     },
     "execution_count": 4,
     "metadata": {},
     "output_type": "execute_result"
    }
   ],
   "source": [
    "pd.DataFrame(data.feature_names, columns=('Features',))"
   ]
  },
  {
   "cell_type": "markdown",
   "metadata": {
    "slideshow": {
     "slide_type": "subslide"
    }
   },
   "source": [
    "# Credit scoring as a standard classification problem"
   ]
  },
  {
   "cell_type": "markdown",
   "metadata": {
    "slideshow": {
     "slide_type": "fragment"
    }
   },
   "source": [
    "### Split in training and testing"
   ]
  },
  {
   "cell_type": "code",
   "execution_count": 5,
   "metadata": {
    "collapsed": false,
    "slideshow": {
     "slide_type": "-"
    }
   },
   "outputs": [],
   "source": [
    "from sklearn.cross_validation import train_test_split\n",
    "X_train, X_test, y_train, y_test, cost_mat_train, cost_mat_test = \\\n",
    "train_test_split(data.data, data.target, data.cost_mat)"
   ]
  },
  {
   "cell_type": "markdown",
   "metadata": {
    "slideshow": {
     "slide_type": "fragment"
    }
   },
   "source": [
    "### Fit models"
   ]
  },
  {
   "cell_type": "code",
   "execution_count": 6,
   "metadata": {
    "collapsed": false,
    "slideshow": {
     "slide_type": "-"
    }
   },
   "outputs": [],
   "source": [
    "from sklearn.ensemble import RandomForestClassifier\n",
    "from sklearn.linear_model import LogisticRegression\n",
    "from sklearn.tree import DecisionTreeClassifier\n",
    "\n",
    "classifiers = {\"RF\": {\"f\": RandomForestClassifier()},\n",
    "               \"DT\": {\"f\": DecisionTreeClassifier()},\n",
    "               \"LR\": {\"f\": LogisticRegression()}}\n",
    "\n",
    "# Fit the classifiers using the training dataset\n",
    "for model in classifiers.keys():\n",
    "    classifiers[model][\"f\"].fit(X_train, y_train)\n",
    "    classifiers[model][\"c\"] = classifiers[model][\"f\"].predict(X_test)\n",
    "    classifiers[model][\"p\"] = classifiers[model][\"f\"].predict_proba(X_test)\n",
    "    classifiers[model][\"p_train\"] = classifiers[model][\"f\"].predict_proba(X_train)"
   ]
  },
  {
   "cell_type": "markdown",
   "metadata": {
    "slideshow": {
     "slide_type": "subslide"
    }
   },
   "source": [
    "# Models performance"
   ]
  },
  {
   "cell_type": "markdown",
   "metadata": {
    "slideshow": {
     "slide_type": "-"
    }
   },
   "source": [
    "### Evaluate metrics and plot results"
   ]
  },
  {
   "cell_type": "code",
   "execution_count": 7,
   "metadata": {
    "collapsed": false,
    "slideshow": {
     "slide_type": "skip"
    }
   },
   "outputs": [],
   "source": [
    "%matplotlib inline\n",
    "import matplotlib.pyplot as plt\n",
    "from IPython.core.pylabtools import figsize\n",
    "import seaborn as sns\n",
    "figsize(12, 8)"
   ]
  },
  {
   "cell_type": "code",
   "execution_count": 8,
   "metadata": {
    "collapsed": false,
    "slideshow": {
     "slide_type": "-"
    }
   },
   "outputs": [],
   "source": [
    "from sklearn.metrics import f1_score, precision_score, recall_score, accuracy_score\n",
    "measures = {\"F1Score\": f1_score, \"Precision\": precision_score, \n",
    "            \"Recall\": recall_score, \"Accuracy\": accuracy_score}\n",
    "results = pd.DataFrame(columns=measures.keys())\n",
    "\n",
    "for model in classifiers.keys():\n",
    "    results.loc[model] = [measures[measure](y_test, classifiers[model][\"c\"]) for measure in measures.keys()]\n",
    "\n",
    "def fig1():\n",
    "    plt.figure()\n",
    "    l = plt.plot(range(results.shape[0]), results, \"-o\", linewidth=7, markersize=15)\n",
    "    plt.legend(iter(l), results.columns.tolist(), loc='center left', bbox_to_anchor=(1, 0.5),fontsize=22)\n",
    "    plt.xlim([-0.25, results.shape[0]-1+.25])\n",
    "    plt.xticks(range(results.shape[0]), results.index) \n",
    "    plt.tick_params(labelsize=22)\n",
    "    plt.show()"
   ]
  },
  {
   "cell_type": "markdown",
   "metadata": {
    "slideshow": {
     "slide_type": "subslide"
    }
   },
   "source": [
    "# Models performance"
   ]
  },
  {
   "cell_type": "code",
   "execution_count": 9,
   "metadata": {
    "collapsed": false,
    "slideshow": {
     "slide_type": "-"
    }
   },
   "outputs": [
    {
     "data": {
      "image/png": "[encoded data removed]",
      "text/plain": [
       "<matplotlib.figure.Figure at 0x7f6803d823d0>"
      ]
     },
     "metadata": {},
     "output_type": "display_data"
    }
   ],
   "source": [
    "fig1()"
   ]
  },
  {
   "cell_type": "markdown",
   "metadata": {
    "slideshow": {
     "slide_type": "subslide"
    }
   },
   "source": [
    "Nevertheless, none of these measures takes into account the **business and economical realities** that take place in credit scoring. Costs that the financial institution had incurred to acquire customers, or the **expected profit** due to a particular client, are not considered in the evaluation of the different models. "
   ]
  },
  {
   "cell_type": "markdown",
   "metadata": {
    "slideshow": {
     "slide_type": "slide"
    }
   },
   "source": [
    "<h1 class=\"bigtitle\">Financial Evaluation of a Credit Scorecard</h1>"
   ]
  },
  {
   "cell_type": "markdown",
   "metadata": {
    "slideshow": {
     "slide_type": "subslide"
    }
   },
   "source": [
    "# Motivation\n",
    "\n",
    "- Typically, a credit risk model is evaluated using standard cost-insensitive measures.\n",
    "- However, in practice, the cost associated with approving a bad customer is quite   different from the cost associated with declining a good customer.\n",
    "- Furthermore, the costs are not constant among customers. "
   ]
  },
  {
   "cell_type": "markdown",
   "metadata": {
    "slideshow": {
     "slide_type": "subslide"
    }
   },
   "source": [
    "# Cost Matrix\n",
    "\n",
    " \n",
    "|  \t| Actual Positive ($y_i=1$)  \t|  Actual Negative \t($y_i=0$)|\n",
    "|---\t|:-:\t|:-:\t|\n",
    "|   Predicted Positive ($c_i=1$)\t|   $C_{TP_i}=0$\t|  $C_{FP_i}=r_i+C^a_{FP}$ \t|\n",
    "|  Predicted Negative  ($c_i=0$) \t|   $C_{FN_i}=Cl_i \\cdot L_{gd}$\t| $C_{TN_i}=0$\t|\n",
    "\n",
    "Where:\n",
    "\n",
    "- $C_{FN_i}$ = losses if the customer $i$ defaults\n",
    "- $Cl_i$ is the credi line of customer $i$\n",
    "- $L_{gd}$ is the loss given default. Percentage of loss over the total credit line when the customer defaulted"
   ]
  },
  {
   "cell_type": "markdown",
   "metadata": {
    "slideshow": {
     "slide_type": "subslide"
    }
   },
   "source": [
    "# Cost Matrix\n",
    "\n",
    "- $C_{FP_i}=r_i+C^a_{FP}$ \n",
    "- $r_i$ is the loss in profit by rejecting what would have been a good customer.\n",
    "- $C^a_{FP}$ is related to the assumption that the financial institution will not keep the money of the declined customer idle, but instead it will give\n",
    "a loan to an alternative customer.\n",
    "\n",
    "For more info see <a href=\"http://albahnsen.com/files/Example-Dependent%20Cost-Sensitive%20Logistic%20Regression%20for%20Credit%20Scoring_publish.pdf\" target=\"_blank\">[Correa Bahnsen et al., 2014]</a> "
   ]
  },
  {
   "cell_type": "markdown",
   "metadata": {
    "slideshow": {
     "slide_type": "subslide"
    }
   },
   "source": [
    "# Financial savings\n",
    "\n",
    "Let $\\mathcal{S}$ be a set of $N$ examples $i$, where each example $\\mathbf{x}_i$ is labeled as $y_i   \\in \\{0,1\\}$. The financial cost of using a classifier $f$ on $\\mathcal{S}$ is calculated by\n",
    "  \n",
    "  $$   Cost(f(\\mathcal{S})) = \\sum_{i=1}^N  y_i(c_i C_{TP_i} + (1-c_i)C_{FN_i}) + (1-y_i)(c_i C_{FP_i} + (1-c_i)C_{TN_i}).$$\n",
    "\n",
    "Then the financial savings are defined as the cost of the algorithm versus the cost of using no algorithm at all.\n",
    "\n",
    "  $$    Savings(f(\\mathcal{S})) = \\frac{ Cost_l(\\mathcal{S}) - Cost(f(\\mathcal{S}))}   {Cost_l(\\mathcal{S})},$$\n",
    "\n",
    "where $Cost_l(\\mathcal{S})$ is the cost of the costless class"
   ]
  },
  {
   "cell_type": "markdown",
   "metadata": {
    "slideshow": {
     "slide_type": "subslide"
    }
   },
   "source": [
    "# Parameters for the Kaggle Credit Database\n",
    "\n",
    "Assuming the database belong to  an average European financial institution, we find the different parameters needed to calculate the cost measure\n",
    "\n",
    "| Parameter \t| Value |\n",
    "|---\t|:-:\t|\n",
    "|Interest rate ($int_r$) | 4.79% |\n",
    "|  Cost of funds ($int_{cf}$) | 2.94% |\n",
    "|  Term ($l$) in months | 24 |\n",
    "|  Loss given default ($L_{gd}$) | 75% |\n",
    "|  Times income ($q$) | 3 |\n",
    "|  Maximum credit line ($Cl_{max}$) | 25,000|"
   ]
  },
  {
   "cell_type": "code",
   "execution_count": 10,
   "metadata": {
    "collapsed": false,
    "slideshow": {
     "slide_type": "fragment"
    }
   },
   "outputs": [
    {
     "name": "stdout",
     "output_type": "stream",
     "text": [
      "[[  1023.73054104  18750.              0.              0.        ]\n",
      " [   717.25781516   6749.25            0.              0.        ]\n",
      " [   866.65393177  12599.25            0.              0.        ]]\n"
     ]
    }
   ],
   "source": [
    "# The cost matrix is already calculated for the dataset\n",
    "# cost_mat[C_FP,C_FN,C_TP,C_TN]\n",
    "print data.cost_mat[[10, 17, 50]]"
   ]
  },
  {
   "cell_type": "markdown",
   "metadata": {
    "slideshow": {
     "slide_type": "subslide"
    }
   },
   "source": [
    "#Models Savings"
   ]
  },
  {
   "cell_type": "code",
   "execution_count": 11,
   "metadata": {
    "collapsed": false,
    "slideshow": {
     "slide_type": "-"
    }
   },
   "outputs": [],
   "source": [
    "# Calculation of the cost and savings\n",
    "from costcla.metrics import savings_score, cost_loss \n",
    "\n",
    "# Evaluate the savings for each model\n",
    "results[\"Savings\"] = np.zeros(results.shape[0])\n",
    "for model in classifiers.keys():\n",
    "    results[\"Savings\"].loc[model] = savings_score(y_test, classifiers[model][\"c\"], cost_mat_test)\n",
    "\n",
    "# Plot the results\n",
    "colors = sns.color_palette()\n",
    "\n",
    "def fig2():\n",
    "    fig, ax = plt.subplots()\n",
    "    l = ax.plot(range(results.shape[0]), results[\"F1Score\"], \"-o\", label='F1Score', color=colors[2], linewidth=7, markersize=15)\n",
    "    b = ax.bar(np.arange(results.shape[0])-0.3, results['Savings'], 0.6, label='Savings', color=colors[0])\n",
    "    plt.legend(loc='center left', bbox_to_anchor=(1, 0.5), fontsize=22)\n",
    "    ax.set_xlim([-0.5, results.shape[0]-1+.5])\n",
    "    ax.set_xticks(range(results.shape[0]))\n",
    "    ax.set_xticklabels(results.index)\n",
    "    plt.tick_params(labelsize=22)\n",
    "    plt.show()"
   ]
  },
  {
   "cell_type": "markdown",
   "metadata": {
    "slideshow": {
     "slide_type": "subslide"
    }
   },
   "source": [
    "#Models Savings"
   ]
  },
  {
   "cell_type": "code",
   "execution_count": 12,
   "metadata": {
    "collapsed": false,
    "scrolled": true
   },
   "outputs": [
    {
     "data": {
      "image/png": "[encoded data removed]",
      "text/plain": [
       "<matplotlib.figure.Figure at 0x7f6803d93ed0>"
      ]
     },
     "metadata": {},
     "output_type": "display_data"
    }
   ],
   "source": [
    "fig2()"
   ]
  },
  {
   "cell_type": "markdown",
   "metadata": {
    "slideshow": {
     "slide_type": "fragment"
    }
   },
   "source": [
    "- There are significant differences in the results when evaluating a model using a  traditional cost-insensitive measure such as the accuracy or F1Score"
   ]
  },
  {
   "cell_type": "markdown",
   "metadata": {
    "slideshow": {
     "slide_type": "slide"
    }
   },
   "source": [
    "<h1 class=\"bigtitle\">Example-Dependent Cost-Sensitive Classification</h1>"
   ]
  },
  {
   "cell_type": "markdown",
   "metadata": {
    "slideshow": {
     "slide_type": "subslide"
    }
   },
   "source": [
    "# Bayes minimum risk (BMR)\n",
    "\n",
    "The BMR classifier is a decision model based on quantifying tradeoffs between various decisions using probabilities and the costs that accompany such decisions. \n",
    "\n",
    "In the specific framework of binary classification, the risk of predicting the example $i$ as negative is \n",
    "\n",
    "$$ R(c_i=0|\\mathbf{x}_i)=C_{TN_i}(1-\\hat p_i)+C_{FN_i} \\cdot \\hat p_i, $$\n",
    "and\n",
    "$$ R(c_i=1|\\mathbf{x}_i)=C_{TP_i} \\cdot \\hat p_i + C_{FP_i}(1- \\hat p_i), $$\n",
    "\n",
    "is the risk when predicting the example as positive, where $\\hat p_i$ is the estimated positive probability for example $i$. Subsequently, if \n",
    "\n",
    "$$  R(c_i=0|\\mathbf{x}_i) \\le R(c_i=1|\\mathbf{x}_i), $$\n",
    "\n",
    "then  the example $i$ is classified as negative. This means that the risk associated with the \n",
    "decision $c_i$ is lower than the risk associated with classifying it as positive. \n"
   ]
  },
  {
   "cell_type": "markdown",
   "metadata": {
    "slideshow": {
     "slide_type": "subslide"
    }
   },
   "source": [
    "# BMR Code"
   ]
  },
  {
   "cell_type": "code",
   "execution_count": 13,
   "metadata": {
    "collapsed": false,
    "scrolled": true
   },
   "outputs": [],
   "source": [
    "from costcla.models import BayesMinimumRiskClassifier\n",
    "ci_models = classifiers.keys()\n",
    "\n",
    "for model in ci_models:\n",
    "    classifiers[model+\"-BMR\"] = {\"f\": BayesMinimumRiskClassifier()}\n",
    "    # Fit\n",
    "    classifiers[model+\"-BMR\"][\"f\"].fit(y_test, classifiers[model][\"p\"])\n",
    "    # Predict\n",
    "    classifiers[model+\"-BMR\"][\"c\"] = classifiers[model+\"-BMR\"][\"f\"].predict(classifiers[model][\"p\"], cost_mat_test)\n",
    "    # Evaluate\n",
    "    results.loc[model+\"-BMR\"] = 0\n",
    "    results.loc[model+\"-BMR\", measures.keys()] = \\\n",
    "    [measures[measure](y_test, classifiers[model+\"-BMR\"][\"c\"]) for measure in measures.keys()]\n",
    "    results[\"Savings\"].loc[model+\"-BMR\"] = savings_score(y_test, classifiers[model+\"-BMR\"][\"c\"], cost_mat_test) "
   ]
  },
  {
   "cell_type": "markdown",
   "metadata": {
    "slideshow": {
     "slide_type": "subslide"
    }
   },
   "source": [
    "# BMR Results"
   ]
  },
  {
   "cell_type": "code",
   "execution_count": 14,
   "metadata": {
    "collapsed": false,
    "slideshow": {
     "slide_type": "-"
    }
   },
   "outputs": [
    {
     "data": {
      "image/png": "[encoded data removed]",
      "text/plain": [
       "<matplotlib.figure.Figure at 0x7f680372ac90>"
      ]
     },
     "metadata": {},
     "output_type": "display_data"
    }
   ],
   "source": [
    "fig2()"
   ]
  },
  {
   "cell_type": "markdown",
   "metadata": {
    "slideshow": {
     "slide_type": "subslide"
    }
   },
   "source": [
    "# BMR Results\n",
    "\n",
    "- Bayes Minimum Risk increases the savings by using a cost-insensitive method and then introducing the costs\n",
    "- Why not introduce the costs during the estimation of the methods?"
   ]
  },
  {
   "cell_type": "markdown",
   "metadata": {
    "slideshow": {
     "slide_type": "subslide"
    }
   },
   "source": [
    "# Cost-Sensitive Decision Trees (CSDT)\n",
    "\n",
    "\n",
    "- Standard impurity measures take into account the distribution of classes to evaluate the predictive power of a splitting rule\n",
    "- Leading to an impurity measure that is based on minimizing the misclassification rate \n",
    "- However, minimizing misclassification does not lead to the same results than minimizing cost. "
   ]
  },
  {
   "cell_type": "markdown",
   "metadata": {
    "slideshow": {
     "slide_type": "subslide"
    }
   },
   "source": [
    "# Cost-sensitive impurity measures\n",
    "\n",
    "Taking into account the cost matrix of each example.\n",
    "\n",
    "A a new cost-based impurity measure taking into account the costs when all the examples\n",
    "in a leaf are classified both as negative using $f_0$ and positive using $f_1$\n",
    "\n",
    "$$    I_c(\\mathcal{S}) = \\min \\bigg\\{ Cost(f_0(\\mathcal{S})), Cost(f_1(\\mathcal{S})) \\bigg\\}. $$\n",
    "\n",
    "The objective of this measure is to evaluate the lowest expected cost of a splitting rule."
   ]
  },
  {
   "cell_type": "markdown",
   "metadata": {
    "slideshow": {
     "slide_type": "subslide"
    }
   },
   "source": [
    "# CSDT Code"
   ]
  },
  {
   "cell_type": "code",
   "execution_count": 15,
   "metadata": {
    "collapsed": false
   },
   "outputs": [],
   "source": [
    "from costcla.models import CostSensitiveDecisionTreeClassifier\n",
    "\n",
    "classifiers[\"CSDT\"] = {\"f\": CostSensitiveDecisionTreeClassifier()}\n",
    "# Fit\n",
    "classifiers[\"CSDT\"][\"f\"].fit(X_train, y_train, cost_mat_train)\n",
    "# Predict\n",
    "classifiers[\"CSDT\"][\"c\"] = classifiers[\"CSDT\"][\"f\"].predict(X_test)\n",
    "# Evaluate\n",
    "results.loc[\"CSDT\"] = 0\n",
    "results.loc[\"CSDT\", measures.keys()] = \\\n",
    "[measures[measure](y_test, classifiers[\"CSDT\"][\"c\"]) for measure in measures.keys()]\n",
    "results[\"Savings\"].loc[\"CSDT\"] = savings_score(y_test, classifiers[\"CSDT\"][\"c\"], cost_mat_test)"
   ]
  },
  {
   "cell_type": "markdown",
   "metadata": {
    "slideshow": {
     "slide_type": "subslide"
    }
   },
   "source": [
    "# CSDT Results"
   ]
  },
  {
   "cell_type": "code",
   "execution_count": 16,
   "metadata": {
    "collapsed": false
   },
   "outputs": [
    {
     "data": {
      "image/png": "[encoded data removed]",
      "text/plain": [
       "<matplotlib.figure.Figure at 0x7f68033ff1d0>"
      ]
     },
     "metadata": {},
     "output_type": "display_data"
    }
   ],
   "source": [
    "fig2()"
   ]
  },
  {
   "cell_type": "markdown",
   "metadata": {
    "slideshow": {
     "slide_type": "slide"
    }
   },
   "source": [
    "<img img class=\"logo\" src=\"https://raw.githubusercontent.com/albahnsen/CostSensitiveClassification/master/logo.png\" style=\"width: 600px;\">"
   ]
  },
  {
   "cell_type": "markdown",
   "metadata": {
    "slideshow": {
     "slide_type": "subslide"
    }
   },
   "source": [
    "# CostCla Library\n",
    "\n",
    "- **CostCla** is a Python open source cost-sensitive classification library built on top of Scikit-learn, Pandas and Numpy. \n",
    "\n",
    "- It provides a wide range of state-of-the-art example-dependent cost-sensitive methods for binary classification tasks. \n",
    "\n",
    "- Moreover, the library also includes four different example-dependent cost-sensitive databases.\n",
    "\n",
    "- Source code, binaries and documentation are distributed under 3-Clause BSD license in the website http://albahnsen.com/CostSensitiveClassification/"
   ]
  },
  {
   "cell_type": "markdown",
   "metadata": {
    "slideshow": {
     "slide_type": "subslide"
    }
   },
   "source": [
    "# CostCla Algorithms\n",
    "\n",
    "- Cost-proportionate over-sampling <a href=\"http://citeseerx.ist.psu.edu/viewdoc/summary?doi=10.1.1.29.514\" target=\"_blank\">[Elkan, 2001]</a> \n",
    "\n",
    "- SMOTE <a href=\"http://arxiv.org/abs/1106.1813\" target=\"_blank\">[Chawla et al., 2002]</a> \n",
    "\n",
    "- Cost-proportionate rejection-sampling <a href=\"http://ieeexplore.ieee.org/lpdocs/epic03/wrapper.htm?arnumber=1250950\" target=\"_blank\">[Zadrozny et al., 2003]</a>\n",
    "\n",
    "- Thresholding optimization <a href=\"http://www.aaai.org/Papers/AAAI/2006/AAAI06-076.pdf\" target=\"_blank\">[Sheng and Ling, 2006]</a> \n",
    "\n",
    "- Bayes minimum risk <a href=\"http://albahnsen.com/files/%20Improving%20Credit%20Card%20Fraud%20Detection%20by%20using%20Calibrated%20Probabilities%20-%20Publish.pdf\" target=\"_blank\">[Correa Bahnsen et al., 2014a]</a>  \n",
    "\n",
    "- Cost-sensitive logistic regression <a href=\"http://albahnsen.com/files/Example-Dependent%20Cost-Sensitive%20Logistic%20Regression%20for%20Credit%20Scoring_publish.pdf\" target=\"_blank\">[Correa Bahnsen et al., 2014b]</a>  \n",
    "\n",
    "- Cost-sensitive decision trees <a href=\"http://albahnsen.com/files/Example-Dependent%20Cost-Sensitive%20Decision%20Trees_preprint_accepted.pdf\" target=\"_blank\">[Correa Bahnsen et al., 2015a]</a>  \n",
    "\n",
    "- Cost-sensitive ensemble methods: cost-sensitive bagging, cost-sensitive pasting, cost-sensitive random forest and cost-sensitive random patches <a href=\"\" target=\"_blank\">[Correa Bahnsen et al., 2015c]</a>"
   ]
  },
  {
   "cell_type": "markdown",
   "metadata": {
    "slideshow": {
     "slide_type": "subslide"
    }
   },
   "source": [
    "# CostCla Databases\n",
    "\n",
    "- Credit Scoring1 - Kaggle credit competition <a href=\"https://www.kaggle.com/c/GiveMeSomeCredit\" target=\"_blank\">[Data]</a>, cost matrix: <a href=\"http://albahnsen.com/files/Example-Dependent%20Cost-Sensitive%20Logistic%20Regression%20for%20Credit%20Scoring_publish.pdf\" target=\"_blank\">[Correa Bahnsen et al., 2014]</a>  \n",
    "\n",
    "- Credit Scoring 2 - PAKDD2009 Credit <a href=\"http://sede.neurotech.com.br/PAKDD2009/\" target=\"_blank\">[Data]</a>, cost matrix: <a href=\"http://albahnsen.com/files/Example-Dependent%20Cost-Sensitive%20Logistic%20Regression%20for%20Credit%20Scoring_publish.pdf\" target=\"_blank\">[Correa Bahnsen et al., 2014a]</a>  \n",
    "\n",
    "- Direct Marketing - PAKDD2009 Credit <a href=\"https://archive.ics.uci.edu/ml/datasets/Bank+Marketing\" target=\"_blank\">[Data]</a>, cost matrix: <a href=\"http://albahnsen.com/files/%20Improving%20Credit%20Card%20Fraud%20Detection%20by%20using%20Calibrated%20Probabilities%20-%20Publish.pdf\" target=\"_blank\">[Correa Bahnsen et al., 2014b]</a>  \n",
    "\n",
    "- Churn Modeling <a href=\"\" target=\"_blank\">[Data]</a>, cost matrix: <a href=\"\" target=\"_blank\">[Correa Bahnsen et al., 2015b]</a>  "
   ]
  },
  {
   "cell_type": "markdown",
   "metadata": {
    "slideshow": {
     "slide_type": "subslide"
    }
   },
   "source": [
    "#Installation\n",
    "\n",
    "CostCla requires some prerequisite packages to be previously installed. Nevertheless, all \n",
    "are cross-platform an freely available online:\n",
    "-    Python version $\\ge$ 2.7\n",
    "-    Numpy version $\\ge$ 1.8.0\n",
    "-    Pandas version $\\ge$ 0.14.0\n",
    "-    Scikit-learn version $\\ge$ 0.15.0b2\n",
    "-    pyea version $\\ge$ 0.1\n",
    "\n",
    "\n",
    "The easiest way to install CostCla  is with pip:\n",
    "\n",
    "```\n",
    "pip install costcla\n",
    "```"
   ]
  },
  {
   "cell_type": "markdown",
   "metadata": {
    "slideshow": {
     "slide_type": "subslide"
    }
   },
   "source": [
    "#Future Work\n",
    "\n",
    "- Compatibility with Python $\\ge$ 3.4\n",
    "- CSDT in Cython\n",
    "- Cost-sensitive class-dependent algorithms\n",
    "- Sampling algorithms\n",
    "- Probability calibration (Only ROCCH)\n",
    "- Other algorithms\n",
    "- More databases"
   ]
  },
  {
   "cell_type": "markdown",
   "metadata": {
    "slideshow": {
     "slide_type": "slide"
    }
   },
   "source": [
    "<h1 class=\"bigtitle\">Conclusions</h1>"
   ]
  },
  {
   "cell_type": "markdown",
   "metadata": {
    "slideshow": {
     "slide_type": "subslide"
    }
   },
   "source": [
    "* CostCla is a easy to use Python library for example-dependent cost-sensitive classification problems."
   ]
  },
  {
   "cell_type": "markdown",
   "metadata": {
    "slideshow": {
     "slide_type": "fragment"
    }
   },
   "source": [
    "* It includes many example-dependent cost-sensitive algorithms. "
   ]
  },
  {
   "cell_type": "markdown",
   "metadata": {
    "slideshow": {
     "slide_type": "fragment"
    }
   },
   "source": [
    "* Since it is part of the scientific Python ecosystem, it can be easily integrated with other machine learning libraries.  "
   ]
  },
  {
   "cell_type": "markdown",
   "metadata": {
    "slideshow": {
     "slide_type": "fragment"
    }
   },
   "source": [
    "* Future work includes adding more cost-sensitive databases and algorithms, and support for Python $\\ge$ 3.4."
   ]
  },
  {
   "cell_type": "markdown",
   "metadata": {
    "slideshow": {
     "slide_type": "slide"
    }
   },
   "source": [
    "<h1 class=\"bigtitle\">Thanks!</h1>"
   ]
  },
  {
   "cell_type": "code",
   "execution_count": 21,
   "metadata": {
    "collapsed": false,
    "slideshow": {
     "slide_type": "skip"
    }
   },
   "outputs": [
    {
     "data": {
      "text/html": [
       "\n",
       "\n",
       "<style>\n",
       "\n",
       ".rendered_html {\n",
       "    font-family: \"proxima-nova\", helvetica;\n",
       "    font-size: 300%;\n",
       "    line-height: 1.3;\n",
       "}\n",
       "\n",
       ".rendered_html h1 {\n",
       "    margin: 0.25em 0em 0.5em;\n",
       "    color: #015C9C;\n",
       "    text-align: center;\n",
       "    line-height: 1.2; \n",
       "    page-break-before: always;\n",
       "}\n",
       "\n",
       ".rendered_html h2 {\n",
       "    margin: 1.1em 0em 0.5em;\n",
       "    color: #26465D;\n",
       "    line-height: 1.2;\n",
       "}\n",
       "\n",
       ".rendered_html h3 {\n",
       "    margin: 1.1em 0em 0.5em;\n",
       "    color: #002845;\n",
       "    line-height: 1.2;\n",
       "}\n",
       "\n",
       ".rendered_html li {\n",
       "    line-height: 1.5; \n",
       "}\n",
       "\n",
       ".prompt {\n",
       "    font-size: 120%; \n",
       "}\n",
       "\n",
       ".CodeMirror-lines {\n",
       "    font-size: 120%; \n",
       "}\n",
       "\n",
       ".output_area {\n",
       "    font-size: 120%; \n",
       "}\n",
       "\n",
       "#notebook {\n",
       "    background-image: url('files/images/witewall_3.png');\n",
       "}\n",
       "\n",
       "h1.bigtitle {\n",
       "    margin: 4cm 1cm 4cm 1cm;\n",
       "    font-size: 300%;\n",
       "}\n",
       "\n",
       "h3.point {\n",
       "    font-size: 200%;\n",
       "    text-align: center;\n",
       "    margin: 2em 0em 2em 0em;\n",
       "    #26465D\n",
       "}\n",
       "\n",
       ".logo {\n",
       "    margin: 20px 0 20px 0;\n",
       "}\n",
       "\n",
       "a.anchor-link {\n",
       "    display: none;\n",
       "}\n",
       "\n",
       "h1.title { \n",
       "    font-size: 250%;\n",
       "}\n",
       "\n",
       "</style>\n"
      ],
      "text/plain": [
       "<IPython.core.display.HTML object>"
      ]
     },
     "metadata": {},
     "output_type": "display_data"
    }
   ],
   "source": [
    "#Format from https://github.com/ellisonbg/talk-2013-scipy\n",
    "from IPython.display import display, HTML\n",
    "s = \"\"\"\n",
    "\n",
    "<style>\n",
    "\n",
    ".rendered_html {\n",
    "    font-family: \"proxima-nova\", helvetica;\n",
    "    font-size: 200%;\n",
    "    line-height: 1.3;\n",
    "}\n",
    "\n",
    ".rendered_html h1 {\n",
    "    margin: 0.25em 0em 0.5em;\n",
    "    color: #015C9C;\n",
    "    text-align: center;\n",
    "    line-height: 1.2; \n",
    "    page-break-before: always;\n",
    "}\n",
    "\n",
    ".rendered_html h2 {\n",
    "    margin: 1.1em 0em 0.5em;\n",
    "    color: #26465D;\n",
    "    line-height: 1.2;\n",
    "}\n",
    "\n",
    ".rendered_html h3 {\n",
    "    margin: 1.1em 0em 0.5em;\n",
    "    color: #002845;\n",
    "    line-height: 1.2;\n",
    "}\n",
    "\n",
    ".rendered_html li {\n",
    "    line-height: 1.5; \n",
    "}\n",
    "\n",
    ".prompt {\n",
    "    font-size: 120%; \n",
    "}\n",
    "\n",
    ".CodeMirror-lines {\n",
    "    font-size: 120%; \n",
    "}\n",
    "\n",
    ".output_area {\n",
    "    font-size: 120%; \n",
    "}\n",
    "\n",
    "#notebook {\n",
    "    background-image: url('files/images/witewall_3.png');\n",
    "}\n",
    "\n",
    "h1.bigtitle {\n",
    "    margin: 4cm 1cm 4cm 1cm;\n",
    "    font-size: 300%;\n",
    "}\n",
    "\n",
    "h3.point {\n",
    "    font-size: 200%;\n",
    "    text-align: center;\n",
    "    margin: 2em 0em 2em 0em;\n",
    "    #26465D\n",
    "}\n",
    "\n",
    ".logo {\n",
    "    margin: 20px 0 20px 0;\n",
    "}\n",
    "\n",
    "a.anchor-link {\n",
    "    display: none;\n",
    "}\n",
    "\n",
    "h1.title { \n",
    "    font-size: 250%;\n",
    "}\n",
    "\n",
    "</style>\n",
    "\"\"\"\n",
    "display(HTML(s))"
   ]
  }
 ],
 "metadata": {
  "celltoolbar": "Slideshow",
  "kernelspec": {
   "display_name": "Python 2",
   "language": "python",
   "name": "python2"
  },
  "language_info": {
   "codemirror_mode": {
    "name": "ipython",
    "version": 2
   },
   "file_extension": ".py",
   "mimetype": "text/x-python",
   "name": "python",
   "nbconvert_exporter": "python",
   "pygments_lexer": "ipython2",
   "version": "2.7.6"
  }
 },
 "nbformat": 4,
 "nbformat_minor": 0
}
